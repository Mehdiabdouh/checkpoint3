{
 "cells": [
  {
   "cell_type": "code",
   "execution_count": 14,
   "id": "eb6f132a",
   "metadata": {},
   "outputs": [
    {
     "name": "stdout",
     "output_type": "stream",
     "text": [
      "36\n"
     ]
    }
   ],
   "source": [
    "l=[2,3,6] \n",
    "n=1\n",
    "for c in l:\n",
    "    n=c*n \n",
    "print (n)"
   ]
  },
  {
   "cell_type": "code",
   "execution_count": 11,
   "id": "0f33cbe2",
   "metadata": {},
   "outputs": [],
   "source": [
    "x=[(2, 5), (1, 2), (4, 4), (2, 3), (2, 1)]"
   ]
  },
  {
   "cell_type": "code",
   "execution_count": 12,
   "id": "489c7c28",
   "metadata": {},
   "outputs": [],
   "source": [
    "def last(n):\n",
    "    return n[-1]"
   ]
  },
  {
   "cell_type": "code",
   "execution_count": 13,
   "id": "a728859f",
   "metadata": {},
   "outputs": [
    {
     "data": {
      "text/plain": [
       "[(2, 1), (1, 2), (2, 3), (4, 4), (2, 5)]"
      ]
     },
     "execution_count": 13,
     "metadata": {},
     "output_type": "execute_result"
    }
   ],
   "source": [
    "sorted(x, key=last)"
   ]
  },
  {
   "cell_type": "code",
   "execution_count": 5,
   "id": "1779acb7",
   "metadata": {},
   "outputs": [],
   "source": [
    "d1={'a':100,'b':200,'c':300}\n",
    "d2={'a':300,'b':200,'c':400}\n",
    "d=dict()\n",
    "for k in d1.keys():\n",
    "    d[k]=d1[k]+d2.get(k,0)\n",
    "for k in d2.keys():\n",
    "    d[k]=d2[k]+d1.get(k,0)\n"
   ]
  },
  {
   "cell_type": "code",
   "execution_count": 6,
   "id": "2b55688b",
   "metadata": {},
   "outputs": [
    {
     "data": {
      "text/plain": [
       "{'a': 400, 'b': 400, 'c': 700}"
      ]
     },
     "execution_count": 6,
     "metadata": {},
     "output_type": "execute_result"
    }
   ],
   "source": [
    "d"
   ]
  },
  {
   "cell_type": "code",
   "execution_count": 7,
   "id": "7ca61769",
   "metadata": {},
   "outputs": [
    {
     "name": "stdout",
     "output_type": "stream",
     "text": [
      "number5\n",
      "{5: 25}\n"
     ]
    }
   ],
   "source": [
    "number=int(input(\"number\"))\n",
    "numberdict={}\n",
    "for i in range(number,number+1):\n",
    "    numberdict[i]=i*i\n",
    "print(numberdict)\n",
    "\n",
    "\n"
   ]
  },
  {
   "cell_type": "code",
   "execution_count": 16,
   "id": "beccc6df",
   "metadata": {},
   "outputs": [
    {
     "name": "stdout",
     "output_type": "stream",
     "text": [
      "[('item3', '24.5'), ('item2', '15.10'), ('item1', '12.20')]\n"
     ]
    }
   ],
   "source": [
    "liste = [('item1', '12.20'), ('item2', '15.10'), ('item3', '24.5')]\n",
    "print( sorted(liste, key=lambda x: float(x[1]), reverse=True))"
   ]
  }
 ],
 "metadata": {
  "kernelspec": {
   "display_name": "Python 3",
   "language": "python",
   "name": "python3"
  },
  "language_info": {
   "codemirror_mode": {
    "name": "ipython",
    "version": 3
   },
   "file_extension": ".py",
   "mimetype": "text/x-python",
   "name": "python",
   "nbconvert_exporter": "python",
   "pygments_lexer": "ipython3",
   "version": "3.8.8"
  }
 },
 "nbformat": 4,
 "nbformat_minor": 5
}
